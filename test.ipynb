{
 "cells": [
  {
   "cell_type": "code",
   "execution_count": 9,
   "metadata": {},
   "outputs": [],
   "source": [
    "import requests\n",
    "import pandas as pd\n",
    "import xmltodict\n",
    "import json\n",
    "from datetime import datetime\n",
    "URL = 'https://transparency.entsoe.eu/api?documentType=A44&in_Domain=10YNO-2--------T&out_Domain=10YNO-2--------T&periodStart=202208060000&periodEnd=202208072300&securityToken=acf71bdf-69df-460d-8d08-68fcbce55337'\n",
    "URL_NOK = 'https://data.norges-bank.no/api/data/EXR/B.EUR.NOK.SP?format=sdmx-json&lastNObservations=1&locale=no'"
   ]
  },
  {
   "cell_type": "code",
   "execution_count": 10,
   "metadata": {},
   "outputs": [],
   "source": [
    "response = requests.get(URL)\n",
    "data = pd.DataFrame.from_dict(xmltodict.parse(response.content))\n",
    "TimeSeries = data.loc['TimeSeries'].values[0]"
   ]
  },
  {
   "cell_type": "code",
   "execution_count": null,
   "metadata": {},
   "outputs": [],
   "source": []
  },
  {
   "cell_type": "code",
   "execution_count": null,
   "metadata": {},
   "outputs": [],
   "source": []
  },
  {
   "cell_type": "code",
   "execution_count": null,
   "metadata": {},
   "outputs": [],
   "source": [
    "val = pd.DataFrame()\n",
    "for TS in data.loc['TimeSeries'].values[0]['Period']:\n",
    "    # 1 - Get TS start time. Time comes at UTC time zone\n",
    "    # 2 - Calculate index with datetime objects\n",
    "    # 3 - Update DF and concat\n",
    "    start = pd.to_datetime(TS['Period']['timeInterval']['start'])\n",
    "    end = pd.to_datetime(TS['Period']['timeInterval']['end'])\n",
    "    time_index = pd.date_range(start, end, freq='H', inclusive='left').tz_convert('Europe/Oslo')\n",
    "    val = pd.concat([val, pd.DataFrame.from_dict(TimeSeries['Period']['Point']).set_index(time_index)], axis=0)"
   ]
  },
  {
   "cell_type": "code",
   "execution_count": 4,
   "metadata": {},
   "outputs": [
    {
     "data": {
      "text/html": [
       "<div>\n",
       "<style scoped>\n",
       "    .dataframe tbody tr th:only-of-type {\n",
       "        vertical-align: middle;\n",
       "    }\n",
       "\n",
       "    .dataframe tbody tr th {\n",
       "        vertical-align: top;\n",
       "    }\n",
       "\n",
       "    .dataframe thead th {\n",
       "        text-align: right;\n",
       "    }\n",
       "</style>\n",
       "<table border=\"1\" class=\"dataframe\">\n",
       "  <thead>\n",
       "    <tr style=\"text-align: right;\">\n",
       "      <th></th>\n",
       "      <th>position</th>\n",
       "      <th>price.amount</th>\n",
       "    </tr>\n",
       "  </thead>\n",
       "  <tbody>\n",
       "    <tr>\n",
       "      <th>2022-07-31 00:00:00+02:00</th>\n",
       "      <td>1</td>\n",
       "      <td>371.69</td>\n",
       "    </tr>\n",
       "    <tr>\n",
       "      <th>2022-07-31 01:00:00+02:00</th>\n",
       "      <td>2</td>\n",
       "      <td>330.02</td>\n",
       "    </tr>\n",
       "    <tr>\n",
       "      <th>2022-07-31 02:00:00+02:00</th>\n",
       "      <td>3</td>\n",
       "      <td>291.39</td>\n",
       "    </tr>\n",
       "    <tr>\n",
       "      <th>2022-07-31 03:00:00+02:00</th>\n",
       "      <td>4</td>\n",
       "      <td>284.55</td>\n",
       "    </tr>\n",
       "    <tr>\n",
       "      <th>2022-07-31 04:00:00+02:00</th>\n",
       "      <td>5</td>\n",
       "      <td>263.43</td>\n",
       "    </tr>\n",
       "    <tr>\n",
       "      <th>...</th>\n",
       "      <td>...</td>\n",
       "      <td>...</td>\n",
       "    </tr>\n",
       "    <tr>\n",
       "      <th>2022-08-02 19:00:00+02:00</th>\n",
       "      <td>20</td>\n",
       "      <td>435.61</td>\n",
       "    </tr>\n",
       "    <tr>\n",
       "      <th>2022-08-02 20:00:00+02:00</th>\n",
       "      <td>21</td>\n",
       "      <td>438.91</td>\n",
       "    </tr>\n",
       "    <tr>\n",
       "      <th>2022-08-02 21:00:00+02:00</th>\n",
       "      <td>22</td>\n",
       "      <td>450.12</td>\n",
       "    </tr>\n",
       "    <tr>\n",
       "      <th>2022-08-02 22:00:00+02:00</th>\n",
       "      <td>23</td>\n",
       "      <td>451.24</td>\n",
       "    </tr>\n",
       "    <tr>\n",
       "      <th>2022-08-02 23:00:00+02:00</th>\n",
       "      <td>24</td>\n",
       "      <td>412.69</td>\n",
       "    </tr>\n",
       "  </tbody>\n",
       "</table>\n",
       "<p>72 rows × 2 columns</p>\n",
       "</div>"
      ],
      "text/plain": [
       "                          position price.amount\n",
       "2022-07-31 00:00:00+02:00        1       371.69\n",
       "2022-07-31 01:00:00+02:00        2       330.02\n",
       "2022-07-31 02:00:00+02:00        3       291.39\n",
       "2022-07-31 03:00:00+02:00        4       284.55\n",
       "2022-07-31 04:00:00+02:00        5       263.43\n",
       "...                            ...          ...\n",
       "2022-08-02 19:00:00+02:00       20       435.61\n",
       "2022-08-02 20:00:00+02:00       21       438.91\n",
       "2022-08-02 21:00:00+02:00       22       450.12\n",
       "2022-08-02 22:00:00+02:00       23       451.24\n",
       "2022-08-02 23:00:00+02:00       24       412.69\n",
       "\n",
       "[72 rows x 2 columns]"
      ]
     },
     "execution_count": 4,
     "metadata": {},
     "output_type": "execute_result"
    }
   ],
   "source": [
    "val"
   ]
  },
  {
   "cell_type": "code",
   "execution_count": 5,
   "metadata": {},
   "outputs": [
    {
     "data": {
      "text/plain": [
       "'EUR'"
      ]
     },
     "execution_count": 5,
     "metadata": {},
     "output_type": "execute_result"
    }
   ],
   "source": [
    "TimeSeries['currency_Unit.name']"
   ]
  },
  {
   "cell_type": "code",
   "execution_count": 6,
   "metadata": {},
   "outputs": [
    {
     "data": {
      "text/plain": [
       "'2022-07-31T13:42:22Z'"
      ]
     },
     "execution_count": 6,
     "metadata": {},
     "output_type": "execute_result"
    }
   ],
   "source": [
    "data.loc['createdDateTime',:].values[0]"
   ]
  },
  {
   "cell_type": "markdown",
   "metadata": {},
   "source": [
    "### Get EUR/NOK conversion rate. Find NordPool conversion time\n",
    "NordPool uses exchange rate around 12.00 to calculate values in NOK. Official currency in NorPool is EUR"
   ]
  },
  {
   "cell_type": "code",
   "execution_count": 11,
   "metadata": {},
   "outputs": [],
   "source": [
    "response = requests.get(URL_NOK)\n",
    "jj = response.json()"
   ]
  },
  {
   "cell_type": "code",
   "execution_count": 12,
   "metadata": {},
   "outputs": [],
   "source": [
    "exch_rate = float(jj['data']['dataSets'][0]['series']['0:0:0:0']['observations']['0'][0])\n",
    "exch_rate_time = pd.to_datetime(jj['meta']['prepared'], utc=True).tz_convert('Europe/Oslo')"
   ]
  },
  {
   "cell_type": "code",
   "execution_count": 13,
   "metadata": {},
   "outputs": [
    {
     "data": {
      "text/plain": [
       "9.982"
      ]
     },
     "execution_count": 13,
     "metadata": {},
     "output_type": "execute_result"
    }
   ],
   "source": [
    "exch_rate"
   ]
  },
  {
   "cell_type": "code",
   "execution_count": null,
   "metadata": {},
   "outputs": [],
   "source": []
  },
  {
   "cell_type": "code",
   "execution_count": null,
   "metadata": {},
   "outputs": [],
   "source": []
  },
  {
   "cell_type": "markdown",
   "metadata": {},
   "source": [
    "## Using bs4"
   ]
  },
  {
   "cell_type": "code",
   "execution_count": 2,
   "metadata": {},
   "outputs": [],
   "source": [
    "from bs4 import BeautifulSoup as bs"
   ]
  },
  {
   "cell_type": "code",
   "execution_count": 3,
   "metadata": {},
   "outputs": [],
   "source": [
    "fn = 'c:\\\\work_drive\\\\data_api\\\\test.xml'\n",
    "f = open(fn, 'w')\n",
    "response = requests.get(URL)\n",
    "f.write(response.content.decode())\n",
    "f.close()"
   ]
  },
  {
   "cell_type": "code",
   "execution_count": 4,
   "metadata": {},
   "outputs": [],
   "source": [
    "with open(fn, \"r\") as file:\n",
    "    # Read each line in the file, readlines() returns a list of lines\n",
    "    content = file.readlines()\n",
    "    # Combine the lines in the list into a string\n",
    "    content = \"\".join(content)\n",
    "    bs_content = bs(content, \"lxml\")"
   ]
  },
  {
   "cell_type": "code",
   "execution_count": 11,
   "metadata": {},
   "outputs": [
    {
     "data": {
      "text/plain": [
       "[]"
      ]
     },
     "execution_count": 11,
     "metadata": {},
     "output_type": "execute_result"
    }
   ],
   "source": [
    "bs_content.find_all(\"Point\")"
   ]
  },
  {
   "cell_type": "code",
   "execution_count": 3,
   "metadata": {},
   "outputs": [],
   "source": [
    "from entsoe import EntsoeRawClient, EntsoePandasClient\n",
    "import pandas as pd"
   ]
  },
  {
   "cell_type": "code",
   "execution_count": 4,
   "metadata": {},
   "outputs": [],
   "source": [
    "client = EntsoeRawClient(api_key='acf71bdf-69df-460d-8d08-68fcbce55337')\n",
    "clientpd = EntsoePandasClient(api_key='acf71bdf-69df-460d-8d08-68fcbce55337')"
   ]
  },
  {
   "cell_type": "code",
   "execution_count": 5,
   "metadata": {},
   "outputs": [],
   "source": [
    "start = pd.Timestamp('20220806', tz='Europe/Oslo')\n",
    "end = pd.Timestamp('20220809', tz='Europe/Oslo')\n",
    "in_Domain=  '10YNO-2--------T'\n",
    "out_Domain= '10YNO-2--------T'\n",
    "documentType='A44'"
   ]
  },
  {
   "cell_type": "code",
   "execution_count": 16,
   "metadata": {},
   "outputs": [],
   "source": [
    "xml_string = client.query_day_ahead_prices(in_Domain, start, end)"
   ]
  },
  {
   "cell_type": "code",
   "execution_count": 6,
   "metadata": {},
   "outputs": [],
   "source": [
    "df = clientpd.query_day_ahead_prices(in_Domain, start=start, end=end)"
   ]
  },
  {
   "cell_type": "code",
   "execution_count": 14,
   "metadata": {},
   "outputs": [],
   "source": [
    "df_nok_kwh = df*exch_rate/1000"
   ]
  },
  {
   "cell_type": "code",
   "execution_count": 15,
   "metadata": {},
   "outputs": [
    {
     "data": {
      "text/plain": [
       "2022-08-06 00:00:00+02:00    4.285896\n",
       "2022-08-06 01:00:00+02:00    3.809131\n",
       "2022-08-06 02:00:00+02:00    3.731022\n",
       "2022-08-06 03:00:00+02:00    3.342473\n",
       "2022-08-06 04:00:00+02:00    3.237287\n",
       "2022-08-06 05:00:00+02:00    3.044760\n",
       "2022-08-06 06:00:00+02:00    2.977131\n",
       "2022-08-06 07:00:00+02:00    3.742501\n",
       "2022-08-06 08:00:00+02:00    3.742751\n",
       "2022-08-06 09:00:00+02:00    3.520028\n",
       "2022-08-06 10:00:00+02:00    3.066096\n",
       "2022-08-06 11:00:00+02:00    2.603555\n",
       "2022-08-06 12:00:00+02:00    2.190550\n",
       "2022-08-06 13:00:00+02:00    1.922658\n",
       "2022-08-06 14:00:00+02:00    1.630684\n",
       "2022-08-06 15:00:00+02:00    1.799755\n",
       "2022-08-06 16:00:00+02:00    2.329924\n",
       "2022-08-06 17:00:00+02:00    3.021676\n",
       "2022-08-06 18:00:00+02:00    3.735639\n",
       "2022-08-06 19:00:00+02:00    4.503629\n",
       "2022-08-06 20:00:00+02:00    4.797724\n",
       "2022-08-06 21:00:00+02:00    4.602700\n",
       "2022-08-06 22:00:00+02:00    4.471686\n",
       "2022-08-06 23:00:00+02:00    3.937275\n",
       "2022-08-07 00:00:00+02:00    3.578297\n",
       "2022-08-07 01:00:00+02:00    2.927721\n",
       "2022-08-07 02:00:00+02:00    2.810682\n",
       "2022-08-07 03:00:00+02:00    2.652217\n",
       "2022-08-07 04:00:00+02:00    2.576105\n",
       "2022-08-07 05:00:00+02:00    2.637244\n",
       "2022-08-07 06:00:00+02:00    2.634250\n",
       "2022-08-07 07:00:00+02:00    2.650845\n",
       "2022-08-07 08:00:00+02:00    2.085115\n",
       "2022-08-07 09:00:00+02:00    1.816350\n",
       "2022-08-07 10:00:00+02:00    1.302401\n",
       "2022-08-07 11:00:00+02:00    1.677600\n",
       "2022-08-07 12:00:00+02:00    2.415394\n",
       "2022-08-07 13:00:00+02:00    2.771003\n",
       "2022-08-07 14:00:00+02:00    2.729703\n",
       "2022-08-07 15:00:00+02:00    2.263294\n",
       "2022-08-07 16:00:00+02:00    2.152868\n",
       "2022-08-07 17:00:00+02:00    2.822286\n",
       "2022-08-07 18:00:00+02:00    3.400867\n",
       "2022-08-07 19:00:00+02:00    3.558957\n",
       "2022-08-07 20:00:00+02:00    4.618796\n",
       "2022-08-07 21:00:00+02:00    5.077095\n",
       "2022-08-07 22:00:00+02:00    4.858863\n",
       "2022-08-07 23:00:00+02:00    4.354523\n",
       "Freq: 60T, dtype: float64"
      ]
     },
     "execution_count": 15,
     "metadata": {},
     "output_type": "execute_result"
    }
   ],
   "source": [
    "df_nok_kwh*1.25"
   ]
  },
  {
   "cell_type": "code",
   "execution_count": 16,
   "metadata": {},
   "outputs": [
    {
     "data": {
      "text/plain": [
       "<AxesSubplot:>"
      ]
     },
     "execution_count": 16,
     "metadata": {},
     "output_type": "execute_result"
    },
    {
     "data": {
      "image/png": "[encoded data removed]",
      "text/plain": [
       "<Figure size 432x288 with 1 Axes>"
      ]
     },
     "metadata": {
      "needs_background": "light"
     },
     "output_type": "display_data"
    }
   ],
   "source": [
    "df_nok_kwh.plot.bar()"
   ]
  },
  {
   "cell_type": "code",
   "execution_count": 19,
   "metadata": {},
   "outputs": [
    {
     "data": {
      "text/html": [
       "<div>\n",
       "<style scoped>\n",
       "    .dataframe tbody tr th:only-of-type {\n",
       "        vertical-align: middle;\n",
       "    }\n",
       "\n",
       "    .dataframe tbody tr th {\n",
       "        vertical-align: top;\n",
       "    }\n",
       "\n",
       "    .dataframe thead th {\n",
       "        text-align: right;\n",
       "    }\n",
       "</style>\n",
       "<table border=\"1\" class=\"dataframe\">\n",
       "  <thead>\n",
       "    <tr style=\"text-align: right;\">\n",
       "      <th></th>\n",
       "      <th>index</th>\n",
       "      <th>0</th>\n",
       "    </tr>\n",
       "  </thead>\n",
       "  <tbody>\n",
       "    <tr>\n",
       "      <th>0</th>\n",
       "      <td>2022-08-06 00:00:00+02:00</td>\n",
       "      <td>3.428717</td>\n",
       "    </tr>\n",
       "    <tr>\n",
       "      <th>1</th>\n",
       "      <td>2022-08-06 01:00:00+02:00</td>\n",
       "      <td>3.047305</td>\n",
       "    </tr>\n",
       "    <tr>\n",
       "      <th>2</th>\n",
       "      <td>2022-08-06 02:00:00+02:00</td>\n",
       "      <td>2.984818</td>\n",
       "    </tr>\n",
       "    <tr>\n",
       "      <th>3</th>\n",
       "      <td>2022-08-06 03:00:00+02:00</td>\n",
       "      <td>2.673978</td>\n",
       "    </tr>\n",
       "    <tr>\n",
       "      <th>4</th>\n",
       "      <td>2022-08-06 04:00:00+02:00</td>\n",
       "      <td>2.589830</td>\n",
       "    </tr>\n",
       "    <tr>\n",
       "      <th>5</th>\n",
       "      <td>2022-08-06 05:00:00+02:00</td>\n",
       "      <td>2.435808</td>\n",
       "    </tr>\n",
       "    <tr>\n",
       "      <th>6</th>\n",
       "      <td>2022-08-06 06:00:00+02:00</td>\n",
       "      <td>2.381705</td>\n",
       "    </tr>\n",
       "    <tr>\n",
       "      <th>7</th>\n",
       "      <td>2022-08-06 07:00:00+02:00</td>\n",
       "      <td>2.994001</td>\n",
       "    </tr>\n",
       "    <tr>\n",
       "      <th>8</th>\n",
       "      <td>2022-08-06 08:00:00+02:00</td>\n",
       "      <td>2.994201</td>\n",
       "    </tr>\n",
       "    <tr>\n",
       "      <th>9</th>\n",
       "      <td>2022-08-06 09:00:00+02:00</td>\n",
       "      <td>2.816022</td>\n",
       "    </tr>\n",
       "    <tr>\n",
       "      <th>10</th>\n",
       "      <td>2022-08-06 10:00:00+02:00</td>\n",
       "      <td>2.452877</td>\n",
       "    </tr>\n",
       "    <tr>\n",
       "      <th>11</th>\n",
       "      <td>2022-08-06 11:00:00+02:00</td>\n",
       "      <td>2.082844</td>\n",
       "    </tr>\n",
       "    <tr>\n",
       "      <th>12</th>\n",
       "      <td>2022-08-06 12:00:00+02:00</td>\n",
       "      <td>1.752440</td>\n",
       "    </tr>\n",
       "    <tr>\n",
       "      <th>13</th>\n",
       "      <td>2022-08-06 13:00:00+02:00</td>\n",
       "      <td>1.538126</td>\n",
       "    </tr>\n",
       "    <tr>\n",
       "      <th>14</th>\n",
       "      <td>2022-08-06 14:00:00+02:00</td>\n",
       "      <td>1.304548</td>\n",
       "    </tr>\n",
       "    <tr>\n",
       "      <th>15</th>\n",
       "      <td>2022-08-06 15:00:00+02:00</td>\n",
       "      <td>1.439804</td>\n",
       "    </tr>\n",
       "    <tr>\n",
       "      <th>16</th>\n",
       "      <td>2022-08-06 16:00:00+02:00</td>\n",
       "      <td>1.863939</td>\n",
       "    </tr>\n",
       "    <tr>\n",
       "      <th>17</th>\n",
       "      <td>2022-08-06 17:00:00+02:00</td>\n",
       "      <td>2.417341</td>\n",
       "    </tr>\n",
       "    <tr>\n",
       "      <th>18</th>\n",
       "      <td>2022-08-06 18:00:00+02:00</td>\n",
       "      <td>2.988511</td>\n",
       "    </tr>\n",
       "    <tr>\n",
       "      <th>19</th>\n",
       "      <td>2022-08-06 19:00:00+02:00</td>\n",
       "      <td>3.602903</td>\n",
       "    </tr>\n",
       "    <tr>\n",
       "      <th>20</th>\n",
       "      <td>2022-08-06 20:00:00+02:00</td>\n",
       "      <td>3.838179</td>\n",
       "    </tr>\n",
       "    <tr>\n",
       "      <th>21</th>\n",
       "      <td>2022-08-06 21:00:00+02:00</td>\n",
       "      <td>3.682160</td>\n",
       "    </tr>\n",
       "    <tr>\n",
       "      <th>22</th>\n",
       "      <td>2022-08-06 22:00:00+02:00</td>\n",
       "      <td>3.577349</td>\n",
       "    </tr>\n",
       "    <tr>\n",
       "      <th>23</th>\n",
       "      <td>2022-08-06 23:00:00+02:00</td>\n",
       "      <td>3.149820</td>\n",
       "    </tr>\n",
       "    <tr>\n",
       "      <th>24</th>\n",
       "      <td>2022-08-07 00:00:00+02:00</td>\n",
       "      <td>2.862638</td>\n",
       "    </tr>\n",
       "    <tr>\n",
       "      <th>25</th>\n",
       "      <td>2022-08-07 01:00:00+02:00</td>\n",
       "      <td>2.342176</td>\n",
       "    </tr>\n",
       "    <tr>\n",
       "      <th>26</th>\n",
       "      <td>2022-08-07 02:00:00+02:00</td>\n",
       "      <td>2.248545</td>\n",
       "    </tr>\n",
       "    <tr>\n",
       "      <th>27</th>\n",
       "      <td>2022-08-07 03:00:00+02:00</td>\n",
       "      <td>2.121774</td>\n",
       "    </tr>\n",
       "    <tr>\n",
       "      <th>28</th>\n",
       "      <td>2022-08-07 04:00:00+02:00</td>\n",
       "      <td>2.060884</td>\n",
       "    </tr>\n",
       "    <tr>\n",
       "      <th>29</th>\n",
       "      <td>2022-08-07 05:00:00+02:00</td>\n",
       "      <td>2.109796</td>\n",
       "    </tr>\n",
       "    <tr>\n",
       "      <th>30</th>\n",
       "      <td>2022-08-07 06:00:00+02:00</td>\n",
       "      <td>2.107400</td>\n",
       "    </tr>\n",
       "    <tr>\n",
       "      <th>31</th>\n",
       "      <td>2022-08-07 07:00:00+02:00</td>\n",
       "      <td>2.120676</td>\n",
       "    </tr>\n",
       "    <tr>\n",
       "      <th>32</th>\n",
       "      <td>2022-08-07 08:00:00+02:00</td>\n",
       "      <td>1.668092</td>\n",
       "    </tr>\n",
       "    <tr>\n",
       "      <th>33</th>\n",
       "      <td>2022-08-07 09:00:00+02:00</td>\n",
       "      <td>1.453080</td>\n",
       "    </tr>\n",
       "    <tr>\n",
       "      <th>34</th>\n",
       "      <td>2022-08-07 10:00:00+02:00</td>\n",
       "      <td>1.041921</td>\n",
       "    </tr>\n",
       "    <tr>\n",
       "      <th>35</th>\n",
       "      <td>2022-08-07 11:00:00+02:00</td>\n",
       "      <td>1.342080</td>\n",
       "    </tr>\n",
       "    <tr>\n",
       "      <th>36</th>\n",
       "      <td>2022-08-07 12:00:00+02:00</td>\n",
       "      <td>1.932316</td>\n",
       "    </tr>\n",
       "    <tr>\n",
       "      <th>37</th>\n",
       "      <td>2022-08-07 13:00:00+02:00</td>\n",
       "      <td>2.216803</td>\n",
       "    </tr>\n",
       "    <tr>\n",
       "      <th>38</th>\n",
       "      <td>2022-08-07 14:00:00+02:00</td>\n",
       "      <td>2.183762</td>\n",
       "    </tr>\n",
       "    <tr>\n",
       "      <th>39</th>\n",
       "      <td>2022-08-07 15:00:00+02:00</td>\n",
       "      <td>1.810635</td>\n",
       "    </tr>\n",
       "    <tr>\n",
       "      <th>40</th>\n",
       "      <td>2022-08-07 16:00:00+02:00</td>\n",
       "      <td>1.722294</td>\n",
       "    </tr>\n",
       "    <tr>\n",
       "      <th>41</th>\n",
       "      <td>2022-08-07 17:00:00+02:00</td>\n",
       "      <td>2.257829</td>\n",
       "    </tr>\n",
       "    <tr>\n",
       "      <th>42</th>\n",
       "      <td>2022-08-07 18:00:00+02:00</td>\n",
       "      <td>2.720694</td>\n",
       "    </tr>\n",
       "    <tr>\n",
       "      <th>43</th>\n",
       "      <td>2022-08-07 19:00:00+02:00</td>\n",
       "      <td>2.847166</td>\n",
       "    </tr>\n",
       "    <tr>\n",
       "      <th>44</th>\n",
       "      <td>2022-08-07 20:00:00+02:00</td>\n",
       "      <td>3.695037</td>\n",
       "    </tr>\n",
       "    <tr>\n",
       "      <th>45</th>\n",
       "      <td>2022-08-07 21:00:00+02:00</td>\n",
       "      <td>4.061676</td>\n",
       "    </tr>\n",
       "    <tr>\n",
       "      <th>46</th>\n",
       "      <td>2022-08-07 22:00:00+02:00</td>\n",
       "      <td>3.887091</td>\n",
       "    </tr>\n",
       "    <tr>\n",
       "      <th>47</th>\n",
       "      <td>2022-08-07 23:00:00+02:00</td>\n",
       "      <td>3.483618</td>\n",
       "    </tr>\n",
       "  </tbody>\n",
       "</table>\n",
       "</div>"
      ],
      "text/plain": [
       "                       index         0\n",
       "0  2022-08-06 00:00:00+02:00  3.428717\n",
       "1  2022-08-06 01:00:00+02:00  3.047305\n",
       "2  2022-08-06 02:00:00+02:00  2.984818\n",
       "3  2022-08-06 03:00:00+02:00  2.673978\n",
       "4  2022-08-06 04:00:00+02:00  2.589830\n",
       "5  2022-08-06 05:00:00+02:00  2.435808\n",
       "6  2022-08-06 06:00:00+02:00  2.381705\n",
       "7  2022-08-06 07:00:00+02:00  2.994001\n",
       "8  2022-08-06 08:00:00+02:00  2.994201\n",
       "9  2022-08-06 09:00:00+02:00  2.816022\n",
       "10 2022-08-06 10:00:00+02:00  2.452877\n",
       "11 2022-08-06 11:00:00+02:00  2.082844\n",
       "12 2022-08-06 12:00:00+02:00  1.752440\n",
       "13 2022-08-06 13:00:00+02:00  1.538126\n",
       "14 2022-08-06 14:00:00+02:00  1.304548\n",
       "15 2022-08-06 15:00:00+02:00  1.439804\n",
       "16 2022-08-06 16:00:00+02:00  1.863939\n",
       "17 2022-08-06 17:00:00+02:00  2.417341\n",
       "18 2022-08-06 18:00:00+02:00  2.988511\n",
       "19 2022-08-06 19:00:00+02:00  3.602903\n",
       "20 2022-08-06 20:00:00+02:00  3.838179\n",
       "21 2022-08-06 21:00:00+02:00  3.682160\n",
       "22 2022-08-06 22:00:00+02:00  3.577349\n",
       "23 2022-08-06 23:00:00+02:00  3.149820\n",
       "24 2022-08-07 00:00:00+02:00  2.862638\n",
       "25 2022-08-07 01:00:00+02:00  2.342176\n",
       "26 2022-08-07 02:00:00+02:00  2.248545\n",
       "27 2022-08-07 03:00:00+02:00  2.121774\n",
       "28 2022-08-07 04:00:00+02:00  2.060884\n",
       "29 2022-08-07 05:00:00+02:00  2.109796\n",
       "30 2022-08-07 06:00:00+02:00  2.107400\n",
       "31 2022-08-07 07:00:00+02:00  2.120676\n",
       "32 2022-08-07 08:00:00+02:00  1.668092\n",
       "33 2022-08-07 09:00:00+02:00  1.453080\n",
       "34 2022-08-07 10:00:00+02:00  1.041921\n",
       "35 2022-08-07 11:00:00+02:00  1.342080\n",
       "36 2022-08-07 12:00:00+02:00  1.932316\n",
       "37 2022-08-07 13:00:00+02:00  2.216803\n",
       "38 2022-08-07 14:00:00+02:00  2.183762\n",
       "39 2022-08-07 15:00:00+02:00  1.810635\n",
       "40 2022-08-07 16:00:00+02:00  1.722294\n",
       "41 2022-08-07 17:00:00+02:00  2.257829\n",
       "42 2022-08-07 18:00:00+02:00  2.720694\n",
       "43 2022-08-07 19:00:00+02:00  2.847166\n",
       "44 2022-08-07 20:00:00+02:00  3.695037\n",
       "45 2022-08-07 21:00:00+02:00  4.061676\n",
       "46 2022-08-07 22:00:00+02:00  3.887091\n",
       "47 2022-08-07 23:00:00+02:00  3.483618"
      ]
     },
     "execution_count": 19,
     "metadata": {},
     "output_type": "execute_result"
    }
   ],
   "source": [
    "df_nok_kwh.reset_index().to_json(orient='records', date_format='iso')"
   ]
  },
  {
   "cell_type": "code",
   "execution_count": null,
   "metadata": {},
   "outputs": [],
   "source": []
  },
  {
   "cell_type": "code",
   "execution_count": null,
   "metadata": {},
   "outputs": [],
   "source": []
  }
 ],
 "metadata": {
  "kernelspec": {
   "display_name": "Python 3.8.8 ('base')",
   "language": "python",
   "name": "python3"
  },
  "language_info": {
   "codemirror_mode": {
    "name": "ipython",
    "version": 3
   },
   "file_extension": ".py",
   "mimetype": "text/x-python",
   "name": "python",
   "nbconvert_exporter": "python",
   "pygments_lexer": "ipython3",
   "version": "3.8.8"
  },
  "orig_nbformat": 4,
  "vscode": {
   "interpreter": {
    "hash": "fdafba22c4c9899d5fa283c70a24d256eed0b96ac349aab126a058e58563319e"
   }
  }
 },
 "nbformat": 4,
 "nbformat_minor": 2
}
